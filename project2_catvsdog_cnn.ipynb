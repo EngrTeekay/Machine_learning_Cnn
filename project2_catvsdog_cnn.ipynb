{
  "cells": [
    {
      "cell_type": "markdown",
      "metadata": {
        "id": "view-in-github",
        "colab_type": "text"
      },
      "source": [
        "<a href=\"https://colab.research.google.com/github/EngrTeekay/Machine_learning_Cnn/blob/main/project2_catvsdog_cnn.ipynb\" target=\"_parent\"><img src=\"https://colab.research.google.com/assets/colab-badge.svg\" alt=\"Open In Colab\"/></a>"
      ]
    },
    {
      "cell_type": "markdown",
      "metadata": {
        "id": "ngkZG0XUg0jg"
      },
      "source": [
        "#Image classification with Pytorch"
      ]
    },
    {
      "cell_type": "code",
      "execution_count": null,
      "metadata": {
        "id": "w5TeYuz_MwbR"
      },
      "outputs": [],
      "source": [
        "#Import the libraries\n",
        "import torch\n",
        "import torch.nn as nn\n",
        "import torch.nn.functional as F\n",
        "import torch.optim as optim\n",
        "from torchvision import datasets, transforms\n",
        "from torch.utils.data import DataLoader\n",
        "import shutil\n",
        "import os\n",
        "from PIL import Image\n",
        "import gdown"
      ]
    },
    {
      "cell_type": "code",
      "execution_count": null,
      "metadata": {
        "colab": {
          "base_uri": "https://localhost:8080/"
        },
        "id": "rs-WGoquM9gK",
        "outputId": "969f4e5f-c82c-4b2f-fdea-dfb0d34b5d72"
      },
      "outputs": [
        {
          "output_type": "stream",
          "name": "stdout",
          "text": [
            "Downloading...\n",
            "From: https://drive.google.com/uc?id=1RCYJeTbxMBKLVEv2inJHGlADvyi3xvof\n",
            "To: /content/dog&cat.zip\n",
            " 45% 370M/818M [00:09<00:11, 39.6MB/s]Traceback (most recent call last):\n",
            "  File \"/usr/lib/python3.7/socket.py\", line 589, in readinto\n",
            "    return self._sock.recv_into(b)\n",
            "  File \"/usr/lib/python3.7/ssl.py\", line 1071, in recv_into\n",
            "    return self.read(nbytes, buffer)\n",
            "  File \"/usr/lib/python3.7/ssl.py\", line 929, in read\n",
            "    return self._sslobj.read(len, buffer)\n",
            "KeyboardInterrupt\n",
            "\n",
            "During handling of the above exception, another exception occurred:\n",
            "\n",
            "Traceback (most recent call last):\n",
            "  File \"/usr/local/bin/gdown\", line 8, in <module>\n",
            "    sys.exit(main())\n",
            "  File \"/usr/local/lib/python3.7/dist-packages/gdown/cli.py\", line 166, in main\n",
            "    resume=args.continue_,\n",
            "  File \"/usr/local/lib/python3.7/dist-packages/gdown/download.py\", line 257, in download\n",
            "    for chunk in res.iter_content(chunk_size=CHUNK_SIZE):\n",
            "  File \"/usr/local/lib/python3.7/dist-packages/requests/models.py\", line 751, in generate\n",
            "    for chunk in self.raw.stream(chunk_size, decode_content=True):\n",
            "  File \"/usr/local/lib/python3.7/dist-packages/urllib3/response.py\", line 496, in stream\n",
            "    data = self.read(amt=amt, decode_content=decode_content)\n",
            "  File \"/usr/local/lib/python3.7/dist-packages/urllib3/response.py\", line 444, in read\n",
            "    data = self._fp.read(amt)\n",
            "  File \"/usr/lib/python3.7/http/client.py\", line 465, in read\n",
            "    n = self.readinto(b)\n",
            "  File \"/usr/lib/python3.7/http/client.py\", line 509, in readinto\n",
            "    n = self.fp.readinto(b)\n",
            "  File \"/usr/lib/python3.7/socket.py\", line 589, in readinto\n",
            "    return self._sock.recv_into(b)\n",
            "KeyboardInterrupt\n",
            " 47% 386M/818M [00:09<00:11, 38.9MB/s]\n",
            "/bin/bash: cat.zip: command not found\n",
            "unzip:  cannot find or open dog, dog.zip or dog.ZIP.\n"
          ]
        }
      ],
      "source": [
        "#mount drive and download dataset\n",
        "\n",
        "!gdown https://drive.google.com/uc?id=1RCYJeTbxMBKLVEv2inJHGlADvyi3xvof\n",
        "!unzip dog&cat.zip\n",
        "\n"
      ]
    },
    {
      "cell_type": "code",
      "execution_count": null,
      "metadata": {
        "id": "hGRx80HsQgGn"
      },
      "outputs": [],
      "source": [
        "#creating image directory\n",
        "#splitting dataset into train and test folder\n",
        "\n",
        "\n",
        "os.mkdir('train')\n",
        "os.mkdir('train/cat')\n",
        "os.mkdir('train/dog')\n",
        "os.mkdir('test')\n",
        "os.mkdir('test/cat')\n",
        "os.mkdir('test/dog')\n",
        "imgs=os.listdir('/content/images/images')\n",
        "for i in imgs:\n",
        "  if i[0].isupper():\n",
        "    old_path='/content/images/images/' + i\n",
        "    new_path='train/cat/' + i\n",
        "    shutil.copy(old_path, new_path)\n",
        "  else:\n",
        "    old_path='/content/images/images/' + i\n",
        "    new_path='train/dog/' + i\n",
        "    shutil.copy(old_path, new_path)\n",
        "\n"
      ]
    },
    {
      "cell_type": "code",
      "execution_count": null,
      "metadata": {
        "id": "rnTTqm9iVVaT"
      },
      "outputs": [],
      "source": [
        "#check old directory and move folders to new dir\n",
        "for i in os.listdir('train/dog')[4000:]:\n",
        "  old_path='train/dog/' + i\n",
        "  new_path= 'test/dog/' + i\n",
        "  shutil.move(old_path, new_path)\n",
        "\n",
        "\n",
        "for i in os.listdir('train/cat')[2000:]:\n",
        "  old_path='train/cat/' + i\n",
        "  new_path= 'test/cat/' + i\n",
        "  shutil.move(old_path, new_path)\n",
        "  "
      ]
    },
    {
      "cell_type": "code",
      "execution_count": null,
      "metadata": {
        "colab": {
          "base_uri": "https://localhost:8080/"
        },
        "id": "emubvg54WrzU",
        "outputId": "a34985c3-d021-4e53-b453-d0827b6aa38c"
      },
      "outputs": [
        {
          "output_type": "execute_result",
          "data": {
            "text/plain": [
              "7393"
            ]
          },
          "metadata": {},
          "execution_count": 6
        }
      ],
      "source": [
        "#Get the total length of dataset\n",
        "\n",
        "#len(os.listdir('train/dog/')) + len(os.listdir('test/dog/')) + len(os.listdir('train/cat/')) + len(os.listdir('test/cat/'))\n",
        "Get length of images dataset\n",
        "len(os.listdir('/content/images/images'))"
      ]
    },
    {
      "cell_type": "code",
      "execution_count": null,
      "metadata": {
        "colab": {
          "base_uri": "https://localhost:8080/"
        },
        "id": "SSAQZsc46WsM",
        "outputId": "23996f0c-6c76-41f7-a3fa-a665bb12ee1c"
      },
      "outputs": [
        {
          "output_type": "stream",
          "name": "stdout",
          "text": [
            "Using device: cuda\n"
          ]
        }
      ],
      "source": [
        "\n",
        "#data preprocessing and conversion to tensor format\n",
        "\n",
        "transform = transforms.Compose([\n",
        "                                  \n",
        "                                  transforms.RandomResizedCrop(255),\n",
        "                                  transforms.RandomHorizontalFlip(255), #flip image\n",
        "                                  transforms.ToTensor(), #convert to tensor format\n",
        "                                  transforms.Normalize((0.5, 0.5, 0.5), (0.5, 0.5, 0.5)) #normalize tensors\n",
        "])\n",
        "\n",
        " train_dataset = datasets.ImageFolder('/content/train', transform)\n",
        " test_dataset=   datasets.ImageFolder('/content/test', transform)\n",
        "\n",
        " batch_size =16\n",
        "\n",
        "# #train and test dataloader\n",
        " train_set= DataLoader(dataset=train_dataset, shuffle=True, batch_size=batch_size)\n",
        " test_set =DataLoader(dataset=test_dataset, shuffle=True, batch_size= batch_size)\n",
        "\n",
        "#if cuda availabe then use device as cuda else use gpu\n",
        "device =torch.device('cuda' if torch.cuda.is_available() else 'cpu')\n",
        "print('Using device:', device)\n",
        "\n"
      ]
    },
    {
      "cell_type": "code",
      "execution_count": null,
      "metadata": {
        "id": "5Ckhb6nvAmLE"
      },
      "outputs": [],
      "source": [
        "# Model Architecture\n",
        "class Convnet(nn.Module):\n",
        "    def __init__(self):\n",
        "        super(Convnet,self).__init__()\n",
        "        \n",
        "        #convolutional layer 1\n",
        "        self.layer1 = nn.Sequential(\n",
        "            nn.Conv2d(3,16,kernel_size=3, padding=0, stride=2),\n",
        "            nn.BatchNorm2d(16),\n",
        "            nn.ReLU(),\n",
        "            nn.MaxPool2d(2)\n",
        "        )\n",
        "        #convolutional layer 2\n",
        "        self.layer2 = nn.Sequential(\n",
        "            nn.Conv2d(16,32, kernel_size=3, padding=0, stride=2),\n",
        "            nn.BatchNorm2d(32),\n",
        "            nn.ReLU(),\n",
        "            nn.MaxPool2d(2)\n",
        "            )\n",
        "        #convolutional layer 3\n",
        "        self.layer3 = nn.Sequential(\n",
        "             nn.Conv2d(32,64, kernel_size=3, padding=0, stride=2),\n",
        "             nn.BatchNorm2d(64),\n",
        "             nn.ReLU(),\n",
        "             nn.MaxPool2d(2)\n",
        "            )\n",
        "        \n",
        "        #Linear layer 1\n",
        "        self.fc1 = nn.Linear(3*3*64,10)\n",
        "        self.dropout = nn.Dropout(0.5)\n",
        "        self.fc2 = nn.Linear(10,2)\n",
        "        self.relu = nn.ReLU()\n",
        "        \n",
        "        #forward propagation\n",
        "    def forward(self,x):\n",
        "        out = self.layer1(x)\n",
        "        out = self.layer2(out)\n",
        "        out = self.layer3(out)\n",
        "        out = out.view(out.size(0),-1)\n",
        "        out = self.relu(self.fc1(out))\n",
        "        out = self.fc2(out)\n",
        "        return out\n",
        "\n",
        "model=Convnet().to(device)"
      ]
    },
    {
      "cell_type": "code",
      "execution_count": null,
      "metadata": {
        "id": "phNHyuawEzmo"
      },
      "outputs": [],
      "source": [
        "#Define Loss and optimize functions ##use SGD or Adam\n",
        "criterion = nn.CrossEntropyLoss() #crossEntropy for classification problem\n",
        "optimizer =optim.Adam(model.parameters(), lr=0.001) #lr,weight_decay=hyperparameter\n"
      ]
    },
    {
      "cell_type": "code",
      "execution_count": null,
      "metadata": {
        "colab": {
          "base_uri": "https://localhost:8080/"
        },
        "id": "FibaIICnHFkk",
        "outputId": "661d69bb-5ad7-43d8-a1ed-f96e71b771a8"
      },
      "outputs": [
        {
          "output_type": "stream",
          "name": "stdout",
          "text": [
            "Epoch : 1, train accuracy : 0.6643966436386108, train loss : 0.6109201908111572\n",
            "Epoch : 1, val_accuracy : 0.7130682468414307, val_loss : 0.5802928805351257\n",
            "Epoch : 2, train accuracy : 0.6665509939193726, train loss : 0.595743715763092\n",
            "Epoch : 2, val_accuracy : 0.722301185131073, val_loss : 0.5636072754859924\n",
            "Epoch : 3, train accuracy : 0.6721404194831848, train loss : 0.5919072031974792\n",
            "Epoch : 3, val_accuracy : 0.7173295617103577, val_loss : 0.5658845901489258\n",
            "Epoch : 4, train accuracy : 0.6845125555992126, train loss : 0.5784310698509216\n",
            "Epoch : 4, val_accuracy : 0.696732759475708, val_loss : 0.5701094269752502\n",
            "Epoch : 5, train accuracy : 0.6886785626411438, train loss : 0.574515700340271\n",
            "Epoch : 5, val_accuracy : 0.702414870262146, val_loss : 0.5656699538230896\n",
            "Epoch : 6, train accuracy : 0.6883069276809692, train loss : 0.572537899017334\n",
            "Epoch : 6, val_accuracy : 0.7208807468414307, val_loss : 0.5478041172027588\n",
            "Epoch : 7, train accuracy : 0.7040507197380066, train loss : 0.5653372406959534\n",
            "Epoch : 7, val_accuracy : 0.7272726893424988, val_loss : 0.5364024639129639\n",
            "Epoch : 8, train accuracy : 0.6986406445503235, train loss : 0.5602431893348694\n",
            "Epoch : 8, val_accuracy : 0.7372159361839294, val_loss : 0.5385485291481018\n",
            "Epoch : 9, train accuracy : 0.7132940888404846, train loss : 0.5526362657546997\n",
            "Epoch : 9, val_accuracy : 0.7485796809196472, val_loss : 0.523849606513977\n",
            "Epoch : 10, train accuracy : 0.7094607949256897, train loss : 0.5495789647102356\n",
            "Epoch : 10, val_accuracy : 0.7450284361839294, val_loss : 0.5305517315864563\n",
            "Epoch : 11, train accuracy : 0.7161791324615479, train loss : 0.5452305674552917\n",
            "Epoch : 11, val_accuracy : 0.7372158169746399, val_loss : 0.526253879070282\n",
            "Epoch : 12, train accuracy : 0.7315123081207275, train loss : 0.5346423983573914\n",
            "Epoch : 12, val_accuracy : 0.7414774298667908, val_loss : 0.5272349119186401\n",
            "Epoch : 13, train accuracy : 0.7270891070365906, train loss : 0.5335486531257629\n",
            "Epoch : 13, val_accuracy : 0.756392240524292, val_loss : 0.4940759539604187\n",
            "Epoch : 14, train accuracy : 0.7311274409294128, train loss : 0.5280812978744507\n",
            "Epoch : 14, val_accuracy : 0.7571024298667908, val_loss : 0.4930006265640259\n",
            "Epoch : 15, train accuracy : 0.730884313583374, train loss : 0.5290656089782715\n",
            "Epoch : 15, val_accuracy : 0.7464487552642822, val_loss : 0.5103756189346313\n",
            "Epoch : 16, train accuracy : 0.735268771648407, train loss : 0.5184961557388306\n",
            "Epoch : 16, val_accuracy : 0.7436081767082214, val_loss : 0.5165959596633911\n",
            "Epoch : 17, train accuracy : 0.7362942099571228, train loss : 0.520624041557312\n",
            "Epoch : 17, val_accuracy : 0.7833807468414307, val_loss : 0.46513161063194275\n",
            "Epoch : 18, train accuracy : 0.7402178049087524, train loss : 0.5160712003707886\n",
            "Epoch : 18, val_accuracy : 0.7734376788139343, val_loss : 0.48447662591934204\n",
            "Epoch : 19, train accuracy : 0.750602126121521, train loss : 0.5038490295410156\n",
            "Epoch : 19, val_accuracy : 0.7457386255264282, val_loss : 0.5056837201118469\n"
          ]
        }
      ],
      "source": [
        "#Training and validation of the model\n",
        "for epoch in range(1, 20):\n",
        "  epoch_loss = 0\n",
        "  epoch_accuracy = 0\n",
        "  for data, target in train_set:\n",
        "      optimizer.zero_grad()\n",
        "      data=data.to(device)\n",
        "      target=target.to(device)\n",
        "      output = model(data)\n",
        "      _, preds = torch.max(output, 1)\n",
        "      loss = criterion(output, target)\n",
        "\n",
        "      #backward-pass\n",
        "      loss.backward()\n",
        "\n",
        "      # Update the parameters\n",
        "      optimizer.step()\n",
        "      \n",
        "      # Update the Training loss\n",
        "      acc = ((output.argmax(dim=1) == target).float().mean())\n",
        "      epoch_accuracy += acc/len(train_set)\n",
        "      epoch_loss += loss/len(train_set)\n",
        "  print('Epoch : {}, train accuracy : {}, train loss : {}'.format(epoch, epoch_accuracy,epoch_loss))\n",
        "\n",
        "  #Testing and validation of model accuracy, loss\n",
        "  with torch.no_grad():\n",
        "        epoch_val_accuracy=0\n",
        "        epoch_val_loss =0\n",
        "        for data, label in test_set:\n",
        "            data = data.to(device)\n",
        "            label = label.to(device)\n",
        "            \n",
        "            val_output = model(data)\n",
        "            val_loss = criterion(val_output,label)\n",
        "            \n",
        "            \n",
        "            acc = ((val_output.argmax(dim=1) == label).float().mean())\n",
        "            epoch_val_accuracy += acc/ len(test_set)\n",
        "            epoch_val_loss += val_loss/ len(test_set)\n",
        "            \n",
        "        print('Epoch : {}, val_accuracy : {}, val_loss : {}'.format(epoch, epoch_val_accuracy,epoch_val_loss))"
      ]
    },
    {
      "cell_type": "code",
      "execution_count": null,
      "metadata": {
        "id": "c6hmKDViKZpT"
      },
      "outputs": [],
      "source": [
        "#Save my model\n",
        "torch.save(model,'model.pth')"
      ]
    },
    {
      "cell_type": "code",
      "execution_count": null,
      "metadata": {
        "colab": {
          "base_uri": "https://localhost:8080/"
        },
        "id": "C3gRshNiM0ap",
        "outputId": "179b4acb-fbf6-4c6f-cec4-d5214832159d"
      },
      "outputs": [
        {
          "output_type": "stream",
          "name": "stdout",
          "text": [
            "The image is a DOG\n"
          ]
        }
      ],
      "source": [
        "#Testing data here\n",
        "import PIL\n",
        "model=torch.load('/content/model.pth')\n",
        "image_path='/content/3426.jpg'\n",
        "image=PIL.Image.open(image_path)\n",
        "image=transform(image).unsqueeze(0)\n",
        "model.cpu()\n",
        "model.eval()\n",
        "pred=torch.argmax(model(image))\n",
        "\n",
        "#Output prediction\n",
        "if pred.item()==0:\n",
        "   print('The image is a CAT')\n",
        "elif pred.item()== 1:\n",
        "   print('The image is a DOG')\n",
        "else:\n",
        " print(\"Unable to identify image\")"
      ]
    }
  ],
  "metadata": {
    "accelerator": "GPU",
    "colab": {
      "collapsed_sections": [],
      "name": "project2_catvsdog_cnn.ipynb",
      "provenance": [],
      "include_colab_link": true
    },
    "gpuClass": "standard",
    "kernelspec": {
      "display_name": "Python 3",
      "name": "python3"
    },
    "language_info": {
      "name": "python"
    }
  },
  "nbformat": 4,
  "nbformat_minor": 0
}
